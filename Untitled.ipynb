{
 "cells": [
  {
   "cell_type": "markdown",
   "id": "6774beb1",
   "metadata": {},
   "source": [
    "# Stock price prediction of Google "
   ]
  },
  {
   "cell_type": "code",
   "execution_count": 1,
   "id": "13104179",
   "metadata": {},
   "outputs": [],
   "source": [
    "import pandas as pd\n",
    "import numpy as np\n",
    "import matplotlib.pyplot as plt"
   ]
  },
  {
   "cell_type": "code",
   "execution_count": 2,
   "id": "518ef174",
   "metadata": {},
   "outputs": [
    {
     "data": {
      "text/html": [
       "<div>\n",
       "<style scoped>\n",
       "    .dataframe tbody tr th:only-of-type {\n",
       "        vertical-align: middle;\n",
       "    }\n",
       "\n",
       "    .dataframe tbody tr th {\n",
       "        vertical-align: top;\n",
       "    }\n",
       "\n",
       "    .dataframe thead th {\n",
       "        text-align: right;\n",
       "    }\n",
       "</style>\n",
       "<table border=\"1\" class=\"dataframe\">\n",
       "  <thead>\n",
       "    <tr style=\"text-align: right;\">\n",
       "      <th></th>\n",
       "      <th>Date</th>\n",
       "      <th>Open</th>\n",
       "      <th>High</th>\n",
       "      <th>Low</th>\n",
       "      <th>Close</th>\n",
       "      <th>Volume</th>\n",
       "    </tr>\n",
       "  </thead>\n",
       "  <tbody>\n",
       "    <tr>\n",
       "      <th>0</th>\n",
       "      <td>1/3/2012</td>\n",
       "      <td>325.25</td>\n",
       "      <td>332.83</td>\n",
       "      <td>324.97</td>\n",
       "      <td>663.59</td>\n",
       "      <td>7,380,500</td>\n",
       "    </tr>\n",
       "    <tr>\n",
       "      <th>1</th>\n",
       "      <td>1/4/2012</td>\n",
       "      <td>331.27</td>\n",
       "      <td>333.87</td>\n",
       "      <td>329.08</td>\n",
       "      <td>666.45</td>\n",
       "      <td>5,749,400</td>\n",
       "    </tr>\n",
       "    <tr>\n",
       "      <th>2</th>\n",
       "      <td>1/5/2012</td>\n",
       "      <td>329.83</td>\n",
       "      <td>330.75</td>\n",
       "      <td>326.89</td>\n",
       "      <td>657.21</td>\n",
       "      <td>6,590,300</td>\n",
       "    </tr>\n",
       "    <tr>\n",
       "      <th>3</th>\n",
       "      <td>1/6/2012</td>\n",
       "      <td>328.34</td>\n",
       "      <td>328.77</td>\n",
       "      <td>323.68</td>\n",
       "      <td>648.24</td>\n",
       "      <td>5,405,900</td>\n",
       "    </tr>\n",
       "    <tr>\n",
       "      <th>4</th>\n",
       "      <td>1/9/2012</td>\n",
       "      <td>322.04</td>\n",
       "      <td>322.29</td>\n",
       "      <td>309.46</td>\n",
       "      <td>620.76</td>\n",
       "      <td>11,688,800</td>\n",
       "    </tr>\n",
       "  </tbody>\n",
       "</table>\n",
       "</div>"
      ],
      "text/plain": [
       "       Date    Open    High     Low   Close      Volume\n",
       "0  1/3/2012  325.25  332.83  324.97  663.59   7,380,500\n",
       "1  1/4/2012  331.27  333.87  329.08  666.45   5,749,400\n",
       "2  1/5/2012  329.83  330.75  326.89  657.21   6,590,300\n",
       "3  1/6/2012  328.34  328.77  323.68  648.24   5,405,900\n",
       "4  1/9/2012  322.04  322.29  309.46  620.76  11,688,800"
      ]
     },
     "execution_count": 2,
     "metadata": {},
     "output_type": "execute_result"
    }
   ],
   "source": [
    "train_dataset=pd.read_csv('Google_Stock_Price_Train.csv')\n",
    "train_dataset.head()"
   ]
  },
  {
   "cell_type": "code",
   "execution_count": 3,
   "id": "aef066dd",
   "metadata": {},
   "outputs": [
    {
     "data": {
      "text/plain": [
       "0       325.25\n",
       "1       331.27\n",
       "2       329.83\n",
       "3       328.34\n",
       "4       322.04\n",
       "         ...  \n",
       "1253    790.90\n",
       "1254    790.68\n",
       "1255    793.70\n",
       "1256    783.33\n",
       "1257    782.75\n",
       "Name: Open, Length: 1258, dtype: float64"
      ]
     },
     "execution_count": 3,
     "metadata": {},
     "output_type": "execute_result"
    }
   ],
   "source": [
    "training_data=train_dataset.reset_index()['Open']\n",
    "training_data"
   ]
  },
  {
   "cell_type": "code",
   "execution_count": 4,
   "id": "d891dee3",
   "metadata": {},
   "outputs": [
    {
     "data": {
      "text/plain": [
       "[<matplotlib.lines.Line2D at 0x23b2c9f7d30>]"
      ]
     },
     "execution_count": 4,
     "metadata": {},
     "output_type": "execute_result"
    },
    {
     "data": {
      "image/png": "[encoded data removed]",
      "text/plain": [
       "<Figure size 432x288 with 1 Axes>"
      ]
     },
     "metadata": {
      "needs_background": "light"
     },
     "output_type": "display_data"
    }
   ],
   "source": [
    "plt.plot(training_data)"
   ]
  },
  {
   "cell_type": "code",
   "execution_count": 5,
   "id": "5f2befa6",
   "metadata": {},
   "outputs": [],
   "source": [
    "from sklearn.preprocessing import MinMaxScaler\n",
    "scaler=MinMaxScaler(feature_range = (0,1))\n",
    "scaled_training_data=scaler.fit_transform(np.array(training_data).reshape(-1,1))"
   ]
  },
  {
   "cell_type": "code",
   "execution_count": 6,
   "id": "eb45cfb0",
   "metadata": {},
   "outputs": [
    {
     "data": {
      "text/plain": [
       "array([[0.08581368],\n",
       "       [0.09701243],\n",
       "       [0.09433366],\n",
       "       ...,\n",
       "       [0.95725128],\n",
       "       [0.93796041],\n",
       "       [0.93688146]])"
      ]
     },
     "execution_count": 6,
     "metadata": {},
     "output_type": "execute_result"
    }
   ],
   "source": [
    "scaled_training_data"
   ]
  },
  {
   "cell_type": "code",
   "execution_count": 7,
   "id": "bfd0473f",
   "metadata": {},
   "outputs": [
    {
     "data": {
      "text/plain": [
       "(1258, 1)"
      ]
     },
     "execution_count": 7,
     "metadata": {},
     "output_type": "execute_result"
    }
   ],
   "source": [
    "scaled_training_data.shape"
   ]
  },
  {
   "cell_type": "code",
   "execution_count": 8,
   "id": "4bcfb6ed",
   "metadata": {},
   "outputs": [],
   "source": [
    "X_train=[]\n",
    "y_train=[]\n",
    "time_step=100\n",
    "for i in range(0,len(scaled_training_data)-time_step-1):\n",
    "    X_train.append(scaled_training_data[i:(i+time_step),0])\n",
    "    y_train.append(scaled_training_data[time_step+i,0])\n",
    "\n",
    "X_train,y_train=np.array(X_train),np.array(y_train)"
   ]
  },
  {
   "cell_type": "code",
   "execution_count": 9,
   "id": "77733531",
   "metadata": {},
   "outputs": [
    {
     "data": {
      "text/plain": [
       "array([[0.08581368, 0.09701243, 0.09433366, ..., 0.04920381, 0.0382841 ,\n",
       "        0.04524146],\n",
       "       [0.09701243, 0.09433366, 0.09156187, ..., 0.0382841 , 0.04524146,\n",
       "        0.03768882],\n",
       "       [0.09433366, 0.09156187, 0.07984225, ..., 0.04524146, 0.03768882,\n",
       "        0.03287075],\n",
       "       ...,\n",
       "       [0.91729295, 0.92019495, 0.93548627, ..., 0.96123223, 0.95475854,\n",
       "        0.95204256],\n",
       "       [0.92019495, 0.93548627, 0.93381204, ..., 0.95475854, 0.95204256,\n",
       "        0.95163331],\n",
       "       [0.93548627, 0.93381204, 0.93874172, ..., 0.95204256, 0.95163331,\n",
       "        0.95725128]])"
      ]
     },
     "execution_count": 9,
     "metadata": {},
     "output_type": "execute_result"
    }
   ],
   "source": [
    "X_train"
   ]
  },
  {
   "cell_type": "code",
   "execution_count": 10,
   "id": "13cb7ec3",
   "metadata": {},
   "outputs": [],
   "source": [
    "#reshaping in 3d\n",
    "X_train = X_train.reshape(X_train.shape[0],X_train.shape[1],1)"
   ]
  },
  {
   "cell_type": "code",
   "execution_count": 11,
   "id": "188fa269",
   "metadata": {},
   "outputs": [],
   "source": [
    "#create LSTM stacked model\n",
    "from tensorflow.keras.models import Sequential\n",
    "from tensorflow.keras.layers import Dense\n",
    "from tensorflow.keras.layers import LSTM\n",
    "from tensorflow.keras.layers import Dropout"
   ]
  },
  {
   "cell_type": "code",
   "execution_count": 12,
   "id": "307d9711",
   "metadata": {},
   "outputs": [],
   "source": [
    "model=Sequential()\n",
    "model.add(LSTM(units=50,return_sequences=True,input_shape=(X_train.shape[1],1)))\n",
    "model.add(Dropout(0.2))\n",
    "model.add(LSTM(units=50,return_sequences=True))\n",
    "model.add(Dropout(0.2))\n",
    "model.add(LSTM(units = 50, return_sequences = True))\n",
    "model.add(Dropout(0.2))\n",
    "model.add(LSTM(units=50))\n",
    "model.add(Dropout(0.2))\n",
    "model.add(Dense(units=1))\n",
    "model.compile(loss='mean_squared_error',optimizer='adam')"
   ]
  },
  {
   "cell_type": "code",
   "execution_count": 13,
   "id": "f154588e",
   "metadata": {},
   "outputs": [
    {
     "name": "stdout",
     "output_type": "stream",
     "text": [
      "Model: \"sequential\"\n",
      "_________________________________________________________________\n",
      "Layer (type)                 Output Shape              Param #   \n",
      "=================================================================\n",
      "lstm (LSTM)                  (None, 100, 50)           10400     \n",
      "_________________________________________________________________\n",
      "dropout (Dropout)            (None, 100, 50)           0         \n",
      "_________________________________________________________________\n",
      "lstm_1 (LSTM)                (None, 100, 50)           20200     \n",
      "_________________________________________________________________\n",
      "dropout_1 (Dropout)          (None, 100, 50)           0         \n",
      "_________________________________________________________________\n",
      "lstm_2 (LSTM)                (None, 100, 50)           20200     \n",
      "_________________________________________________________________\n",
      "dropout_2 (Dropout)          (None, 100, 50)           0         \n",
      "_________________________________________________________________\n",
      "lstm_3 (LSTM)                (None, 50)                20200     \n",
      "_________________________________________________________________\n",
      "dropout_3 (Dropout)          (None, 50)                0         \n",
      "_________________________________________________________________\n",
      "dense (Dense)                (None, 1)                 51        \n",
      "=================================================================\n",
      "Total params: 71,051\n",
      "Trainable params: 71,051\n",
      "Non-trainable params: 0\n",
      "_________________________________________________________________\n"
     ]
    }
   ],
   "source": [
    "model.summary()"
   ]
  },
  {
   "cell_type": "code",
   "execution_count": 14,
   "id": "3a89b52b",
   "metadata": {},
   "outputs": [
    {
     "name": "stdout",
     "output_type": "stream",
     "text": [
      "Epoch 1/100\n",
      "37/37 [==============================] - 21s 278ms/step - loss: 0.0464\n",
      "Epoch 2/100\n",
      "37/37 [==============================] - 10s 265ms/step - loss: 0.0074\n",
      "Epoch 3/100\n",
      "37/37 [==============================] - 10s 267ms/step - loss: 0.0062\n",
      "Epoch 4/100\n",
      "37/37 [==============================] - 10s 273ms/step - loss: 0.0068\n",
      "Epoch 5/100\n",
      "37/37 [==============================] - 10s 271ms/step - loss: 0.0050\n",
      "Epoch 6/100\n",
      "37/37 [==============================] - 10s 270ms/step - loss: 0.0050\n",
      "Epoch 7/100\n",
      "37/37 [==============================] - 10s 268ms/step - loss: 0.0046\n",
      "Epoch 8/100\n",
      "37/37 [==============================] - 11s 284ms/step - loss: 0.0049\n",
      "Epoch 9/100\n",
      "37/37 [==============================] - 10s 268ms/step - loss: 0.0048\n",
      "Epoch 10/100\n",
      "37/37 [==============================] - 12s 327ms/step - loss: 0.0049\n",
      "Epoch 11/100\n",
      "37/37 [==============================] - 10s 277ms/step - loss: 0.0050\n",
      "Epoch 12/100\n",
      "37/37 [==============================] - 10s 269ms/step - loss: 0.0052\n",
      "Epoch 13/100\n",
      "37/37 [==============================] - 10s 272ms/step - loss: 0.0042\n",
      "Epoch 14/100\n",
      "37/37 [==============================] - 10s 271ms/step - loss: 0.0041\n",
      "Epoch 15/100\n",
      "37/37 [==============================] - 10s 267ms/step - loss: 0.0042\n",
      "Epoch 16/100\n",
      "37/37 [==============================] - 10s 273ms/step - loss: 0.0034\n",
      "Epoch 17/100\n",
      "37/37 [==============================] - 10s 270ms/step - loss: 0.0040\n",
      "Epoch 18/100\n",
      "37/37 [==============================] - 10s 272ms/step - loss: 0.0037\n",
      "Epoch 19/100\n",
      "37/37 [==============================] - 10s 271ms/step - loss: 0.0038\n",
      "Epoch 20/100\n",
      "37/37 [==============================] - 10s 265ms/step - loss: 0.0035\n",
      "Epoch 21/100\n",
      "37/37 [==============================] - 10s 263ms/step - loss: 0.0030\n",
      "Epoch 22/100\n",
      "37/37 [==============================] - 11s 288ms/step - loss: 0.0033\n",
      "Epoch 23/100\n",
      "37/37 [==============================] - 10s 272ms/step - loss: 0.0033\n",
      "Epoch 24/100\n",
      "37/37 [==============================] - 10s 267ms/step - loss: 0.0033\n",
      "Epoch 25/100\n",
      "37/37 [==============================] - 10s 266ms/step - loss: 0.0033\n",
      "Epoch 26/100\n",
      "37/37 [==============================] - 10s 272ms/step - loss: 0.0034\n",
      "Epoch 27/100\n",
      "37/37 [==============================] - 10s 271ms/step - loss: 0.0030\n",
      "Epoch 28/100\n",
      "37/37 [==============================] - 10s 261ms/step - loss: 0.0029\n",
      "Epoch 29/100\n",
      "37/37 [==============================] - 11s 286ms/step - loss: 0.0033\n",
      "Epoch 30/100\n",
      "37/37 [==============================] - 11s 290ms/step - loss: 0.0038\n",
      "Epoch 31/100\n",
      "37/37 [==============================] - 10s 267ms/step - loss: 0.0030\n",
      "Epoch 32/100\n",
      "37/37 [==============================] - 10s 263ms/step - loss: 0.0031\n",
      "Epoch 33/100\n",
      "37/37 [==============================] - 10s 272ms/step - loss: 0.0031\n",
      "Epoch 34/100\n",
      "37/37 [==============================] - 10s 274ms/step - loss: 0.0030\n",
      "Epoch 35/100\n",
      "37/37 [==============================] - 10s 279ms/step - loss: 0.0027\n",
      "Epoch 36/100\n",
      "37/37 [==============================] - 10s 275ms/step - loss: 0.0028\n",
      "Epoch 37/100\n",
      "37/37 [==============================] - 10s 264ms/step - loss: 0.0027\n",
      "Epoch 38/100\n",
      "37/37 [==============================] - 10s 270ms/step - loss: 0.0028\n",
      "Epoch 39/100\n",
      "37/37 [==============================] - 10s 268ms/step - loss: 0.0028\n",
      "Epoch 40/100\n",
      "37/37 [==============================] - 10s 269ms/step - loss: 0.0029\n",
      "Epoch 41/100\n",
      "37/37 [==============================] - 10s 263ms/step - loss: 0.0026\n",
      "Epoch 42/100\n",
      "37/37 [==============================] - 10s 266ms/step - loss: 0.0026\n",
      "Epoch 43/100\n",
      "37/37 [==============================] - 10s 263ms/step - loss: 0.0029\n",
      "Epoch 44/100\n",
      "37/37 [==============================] - 10s 271ms/step - loss: 0.0023\n",
      "Epoch 45/100\n",
      "37/37 [==============================] - 10s 267ms/step - loss: 0.0025\n",
      "Epoch 46/100\n",
      "37/37 [==============================] - 10s 260ms/step - loss: 0.0025\n",
      "Epoch 47/100\n",
      "37/37 [==============================] - 10s 264ms/step - loss: 0.0029\n",
      "Epoch 48/100\n",
      "37/37 [==============================] - 10s 260ms/step - loss: 0.0025\n",
      "Epoch 49/100\n",
      "37/37 [==============================] - 10s 259ms/step - loss: 0.0026\n",
      "Epoch 50/100\n",
      "37/37 [==============================] - 10s 260ms/step - loss: 0.0026\n",
      "Epoch 51/100\n",
      "37/37 [==============================] - 10s 256ms/step - loss: 0.0023\n",
      "Epoch 52/100\n",
      "37/37 [==============================] - 10s 268ms/step - loss: 0.0024\n",
      "Epoch 53/100\n",
      "37/37 [==============================] - 10s 257ms/step - loss: 0.0025\n",
      "Epoch 54/100\n",
      "37/37 [==============================] - 9s 257ms/step - loss: 0.0023\n",
      "Epoch 55/100\n",
      "37/37 [==============================] - 10s 259ms/step - loss: 0.0023\n",
      "Epoch 56/100\n",
      "37/37 [==============================] - 10s 258ms/step - loss: 0.0022\n",
      "Epoch 57/100\n",
      "37/37 [==============================] - 10s 266ms/step - loss: 0.0024\n",
      "Epoch 58/100\n",
      "37/37 [==============================] - 10s 267ms/step - loss: 0.0021\n",
      "Epoch 59/100\n",
      "37/37 [==============================] - 10s 266ms/step - loss: 0.0022\n",
      "Epoch 60/100\n",
      "37/37 [==============================] - 10s 259ms/step - loss: 0.0021\n",
      "Epoch 61/100\n",
      "37/37 [==============================] - 10s 257ms/step - loss: 0.0023\n",
      "Epoch 62/100\n",
      "37/37 [==============================] - 10s 269ms/step - loss: 0.0020\n",
      "Epoch 63/100\n",
      "37/37 [==============================] - 10s 259ms/step - loss: 0.0022\n",
      "Epoch 64/100\n",
      "37/37 [==============================] - 10s 260ms/step - loss: 0.0020\n",
      "Epoch 65/100\n",
      "37/37 [==============================] - 10s 261ms/step - loss: 0.0022\n",
      "Epoch 66/100\n",
      "37/37 [==============================] - 10s 260ms/step - loss: 0.0019\n",
      "Epoch 67/100\n",
      "37/37 [==============================] - 10s 264ms/step - loss: 0.0021\n",
      "Epoch 68/100\n",
      "37/37 [==============================] - 10s 259ms/step - loss: 0.0023\n",
      "Epoch 69/100\n",
      "37/37 [==============================] - 10s 263ms/step - loss: 0.0020\n",
      "Epoch 70/100\n",
      "37/37 [==============================] - 10s 265ms/step - loss: 0.0020\n",
      "Epoch 71/100\n",
      "37/37 [==============================] - 10s 265ms/step - loss: 0.0019\n",
      "Epoch 72/100\n",
      "37/37 [==============================] - 10s 266ms/step - loss: 0.0019\n",
      "Epoch 73/100\n",
      "37/37 [==============================] - 10s 258ms/step - loss: 0.0017\n",
      "Epoch 74/100\n",
      "37/37 [==============================] - 9s 256ms/step - loss: 0.0020\n",
      "Epoch 75/100\n",
      "37/37 [==============================] - 9s 255ms/step - loss: 0.0021\n",
      "Epoch 76/100\n",
      "37/37 [==============================] - 9s 257ms/step - loss: 0.0020\n",
      "Epoch 77/100\n",
      "37/37 [==============================] - 9s 255ms/step - loss: 0.0018\n",
      "Epoch 78/100\n",
      "37/37 [==============================] - 9s 256ms/step - loss: 0.0017\n",
      "Epoch 79/100\n",
      "37/37 [==============================] - 10s 257ms/step - loss: 0.0018\n",
      "Epoch 80/100\n",
      "37/37 [==============================] - 9s 255ms/step - loss: 0.0016\n",
      "Epoch 81/100\n",
      "37/37 [==============================] - 9s 256ms/step - loss: 0.0017\n",
      "Epoch 82/100\n",
      "37/37 [==============================] - 10s 258ms/step - loss: 0.0016\n",
      "Epoch 83/100\n",
      "37/37 [==============================] - 9s 256ms/step - loss: 0.0017\n",
      "Epoch 84/100\n",
      "37/37 [==============================] - 10s 257ms/step - loss: 0.0018\n",
      "Epoch 85/100\n",
      "37/37 [==============================] - 10s 257ms/step - loss: 0.0017\n",
      "Epoch 86/100\n",
      "37/37 [==============================] - 10s 257ms/step - loss: 0.0016\n",
      "Epoch 87/100\n",
      "37/37 [==============================] - 9s 256ms/step - loss: 0.0016\n",
      "Epoch 88/100\n",
      "37/37 [==============================] - 9s 256ms/step - loss: 0.0017\n",
      "Epoch 89/100\n",
      "37/37 [==============================] - 9s 254ms/step - loss: 0.0016\n",
      "Epoch 90/100\n",
      "37/37 [==============================] - 10s 263ms/step - loss: 0.0020\n",
      "Epoch 91/100\n",
      "37/37 [==============================] - 10s 257ms/step - loss: 0.0017\n",
      "Epoch 92/100\n",
      "37/37 [==============================] - 10s 265ms/step - loss: 0.0016\n",
      "Epoch 93/100\n",
      "37/37 [==============================] - 10s 268ms/step - loss: 0.0015\n",
      "Epoch 94/100\n",
      "37/37 [==============================] - 9s 255ms/step - loss: 0.0015\n",
      "Epoch 95/100\n",
      "37/37 [==============================] - 9s 256ms/step - loss: 0.0015\n",
      "Epoch 96/100\n",
      "37/37 [==============================] - 10s 261ms/step - loss: 0.0016\n",
      "Epoch 97/100\n",
      "37/37 [==============================] - 9s 255ms/step - loss: 0.0017\n",
      "Epoch 98/100\n"
     ]
    },
    {
     "name": "stdout",
     "output_type": "stream",
     "text": [
      "37/37 [==============================] - 10s 261ms/step - loss: 0.0015\n",
      "Epoch 99/100\n",
      "37/37 [==============================] - 10s 261ms/step - loss: 0.0015\n",
      "Epoch 100/100\n",
      "37/37 [==============================] - 10s 262ms/step - loss: 0.0016\n"
     ]
    },
    {
     "data": {
      "text/plain": [
       "<keras.callbacks.History at 0x23b3cd732b0>"
      ]
     },
     "execution_count": 14,
     "metadata": {},
     "output_type": "execute_result"
    }
   ],
   "source": [
    "model.fit(X_train,y_train,epochs=100, batch_size=32)"
   ]
  },
  {
   "cell_type": "code",
   "execution_count": 15,
   "id": "a63646d7",
   "metadata": {},
   "outputs": [],
   "source": [
    "# Getting the real stock price of 2017\n",
    "test_dataset = pd.read_csv('Google_Stock_Price_Test.csv')\n",
    "real_stock_price = test_dataset.iloc[:, 1:2].values"
   ]
  },
  {
   "cell_type": "code",
   "execution_count": 23,
   "id": "40966936",
   "metadata": {},
   "outputs": [
    {
     "data": {
      "text/plain": [
       "array([[778.81],\n",
       "       [788.36],\n",
       "       [786.08],\n",
       "       [795.26],\n",
       "       [806.4 ],\n",
       "       [807.86],\n",
       "       [805.  ],\n",
       "       [807.14],\n",
       "       [807.48],\n",
       "       [807.08],\n",
       "       [805.81],\n",
       "       [805.12],\n",
       "       [806.91],\n",
       "       [807.25],\n",
       "       [822.3 ],\n",
       "       [829.62],\n",
       "       [837.81],\n",
       "       [834.71],\n",
       "       [814.66],\n",
       "       [796.86]])"
      ]
     },
     "execution_count": 23,
     "metadata": {},
     "output_type": "execute_result"
    }
   ],
   "source": [
    "real_stock_price"
   ]
  },
  {
   "cell_type": "code",
   "execution_count": 26,
   "id": "5a5645f8",
   "metadata": {},
   "outputs": [
    {
     "data": {
      "text/plain": [
       "0     325.25\n",
       "1     331.27\n",
       "2     329.83\n",
       "3     328.34\n",
       "4     322.04\n",
       "       ...  \n",
       "15    829.62\n",
       "16    837.81\n",
       "17    834.71\n",
       "18    814.66\n",
       "19    796.86\n",
       "Name: Open, Length: 1278, dtype: float64"
      ]
     },
     "execution_count": 26,
     "metadata": {},
     "output_type": "execute_result"
    }
   ],
   "source": [
    "# Getting the predicted stock price of 2017\n",
    "dataset_total = pd.concat((train_dataset['Open'], test_dataset['Open']), axis = 0)\n",
    "dataset_total"
   ]
  },
  {
   "cell_type": "code",
   "execution_count": 27,
   "id": "ef587d54",
   "metadata": {},
   "outputs": [
    {
     "data": {
      "text/plain": [
       "(1278,)"
      ]
     },
     "execution_count": 27,
     "metadata": {},
     "output_type": "execute_result"
    }
   ],
   "source": [
    "dataset_total.shape"
   ]
  },
  {
   "cell_type": "code",
   "execution_count": 35,
   "id": "d51ff80c",
   "metadata": {},
   "outputs": [],
   "source": [
    "inputs = dataset_total[len(dataset_total) - len(test_dataset) - 100:].values\n",
    "scaled_test_data = scaler.transform(inputs.reshape(-1,1))"
   ]
  },
  {
   "cell_type": "code",
   "execution_count": 36,
   "id": "8da95b37",
   "metadata": {},
   "outputs": [
    {
     "data": {
      "text/plain": [
       "(120, 1)"
      ]
     },
     "execution_count": 36,
     "metadata": {},
     "output_type": "execute_result"
    }
   ],
   "source": [
    "scaled_test_data.shape"
   ]
  },
  {
   "cell_type": "code",
   "execution_count": 38,
   "id": "649e15d6",
   "metadata": {},
   "outputs": [],
   "source": [
    "X_test = []\n",
    "for i in range(0,len(scaled_test_data)-time_step-1):\n",
    "    X_test.append(scaled_test_data[i:(i+time_step), 0])\n",
    "    \n",
    "X_test = np.array(X_test)"
   ]
  },
  {
   "cell_type": "code",
   "execution_count": 39,
   "id": "979cc3af",
   "metadata": {},
   "outputs": [
    {
     "data": {
      "text/plain": [
       "array([[0.93874172, 0.94106704, 0.93455614, ..., 0.95725128, 0.93796041,\n",
       "        0.93688146],\n",
       "       [0.94106704, 0.93455614, 0.93874172, ..., 0.93796041, 0.93688146,\n",
       "        0.92955205],\n",
       "       [0.93455614, 0.93874172, 0.93232383, ..., 0.93688146, 0.92955205,\n",
       "        0.94731751],\n",
       "       ...,\n",
       "       [0.91176799, 0.91876256, 0.91958107, ..., 0.98245777, 1.01045465,\n",
       "        1.02407173],\n",
       "       [0.91876256, 0.91958107, 0.93176576, ..., 1.01045465, 1.02407173,\n",
       "        1.03930724],\n",
       "       [0.91958107, 0.93176576, 0.92914279, ..., 1.02407173, 1.03930724,\n",
       "        1.03354044]])"
      ]
     },
     "execution_count": 39,
     "metadata": {},
     "output_type": "execute_result"
    }
   ],
   "source": [
    "X_test"
   ]
  },
  {
   "cell_type": "code",
   "execution_count": 40,
   "id": "ecc80591",
   "metadata": {},
   "outputs": [],
   "source": [
    "X_test = np.reshape(X_test, (X_test.shape[0], X_test.shape[1], 1))\n",
    "predicted_stock_price = model.predict(X_test)\n",
    "predicted_stock_price = scaler.inverse_transform(predicted_stock_price)"
   ]
  },
  {
   "cell_type": "code",
   "execution_count": 41,
   "id": "f29abb50",
   "metadata": {},
   "outputs": [
    {
     "data": {
      "text/plain": [
       "array([[794.9634 ],\n",
       "       [792.41815],\n",
       "       [792.2582 ],\n",
       "       [793.32855],\n",
       "       [796.4645 ],\n",
       "       [802.2643 ],\n",
       "       [808.17633],\n",
       "       [811.5123 ],\n",
       "       [812.7862 ],\n",
       "       [812.8522 ],\n",
       "       [812.3483 ],\n",
       "       [811.5491 ],\n",
       "       [810.7713 ],\n",
       "       [810.70917],\n",
       "       [811.26056],\n",
       "       [815.23206],\n",
       "       [821.79736],\n",
       "       [829.4731 ],\n",
       "       [834.58704]], dtype=float32)"
      ]
     },
     "execution_count": 41,
     "metadata": {},
     "output_type": "execute_result"
    }
   ],
   "source": [
    "predicted_stock_price"
   ]
  },
  {
   "cell_type": "code",
   "execution_count": 42,
   "id": "09879a60",
   "metadata": {},
   "outputs": [
    {
     "data": {
      "image/png": "[encoded data removed]",
      "text/plain": [
       "<Figure size 432x288 with 1 Axes>"
      ]
     },
     "metadata": {
      "needs_background": "light"
     },
     "output_type": "display_data"
    }
   ],
   "source": [
    "# Visualising the results\n",
    "plt.plot(real_stock_price, color = 'red', label = 'Real Google Stock Price')\n",
    "plt.plot(predicted_stock_price, color = 'blue', label = 'Predicted Google Stock Price')\n",
    "plt.title('Google Stock Price Prediction')\n",
    "plt.xlabel('Time')\n",
    "plt.ylabel('Google Stock Price')\n",
    "plt.legend()\n",
    "plt.show()"
   ]
  },
  {
   "cell_type": "code",
   "execution_count": null,
   "id": "d973d6ec",
   "metadata": {},
   "outputs": [],
   "source": []
  }
 ],
 "metadata": {
  "kernelspec": {
   "display_name": "Python 3",
   "language": "python",
   "name": "python3"
  },
  "language_info": {
   "codemirror_mode": {
    "name": "ipython",
    "version": 3
   },
   "file_extension": ".py",
   "mimetype": "text/x-python",
   "name": "python",
   "nbconvert_exporter": "python",
   "pygments_lexer": "ipython3",
   "version": "3.9.2"
  }
 },
 "nbformat": 4,
 "nbformat_minor": 5
}
